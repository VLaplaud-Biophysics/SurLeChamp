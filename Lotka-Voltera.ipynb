{
 "cells": [
  {
   "cell_type": "markdown",
   "metadata": {},
   "source": [
    "# Modèle de Lotka-Voltera\n"
   ]
  },
  {
   "cell_type": "markdown",
   "metadata": {
    "heading_collapsed": true
   },
   "source": [
    "## Documentation et Imports\n",
    "\n",
    "\n",
    "Crée le 13 mai 2021\n",
    "\n",
    "Auteur: Valentin Laplaud\n",
    "\n",
    "Le but de ce notebook est de résoudre les équations de prédation de Lotka-Voltera grace a une resolution numérique."
   ]
  },
  {
   "cell_type": "code",
   "execution_count": null,
   "metadata": {
    "hidden": true
   },
   "outputs": [],
   "source": [
    "import numpy as np \n",
    "import scipy.integrate as scpint\n",
    "import matplotlib.pyplot as plt"
   ]
  },
  {
   "cell_type": "markdown",
   "metadata": {
    "heading_collapsed": true,
    "hidden": true
   },
   "source": [
    "### Fonctions utiles"
   ]
  },
  {
   "cell_type": "code",
   "execution_count": null,
   "metadata": {
    "hidden": true
   },
   "outputs": [],
   "source": [
    "\"\"\" Test de positivité strict\"\"\"\n",
    "def strctpos(x):\n",
    "    \n",
    "    if x > 0:\n",
    "        p = 1\n",
    "    else:\n",
    "        p = 0 \n",
    "    \n",
    "    return(p)     \n"
   ]
  },
  {
   "cell_type": "markdown",
   "metadata": {},
   "source": [
    "## Résolution des équations"
   ]
  },
  {
   "cell_type": "markdown",
   "metadata": {},
   "source": [
    "### Lotka-Voltera"
   ]
  },
  {
   "cell_type": "markdown",
   "metadata": {
    "heading_collapsed": true
   },
   "source": [
    "#### Définition et résolution"
   ]
  },
  {
   "cell_type": "code",
   "execution_count": null,
   "metadata": {
    "hidden": true
   },
   "outputs": [],
   "source": [
    "def Solve_LV(t,X0,P):\n",
    "    \n",
    "    \"\"\" Equations d'évolution \"\"\"\n",
    "    a,b,c,d = P\n",
    "    def dX_dt_LV(X, t=0):\n",
    "\n",
    "        du_dt =  a*X[0] -   b*X[0]*X[1] # du/dt = u(t)*a - u(t)*v(t)*b\n",
    "        dv_dt =  -c*X[1] + d*X[0]*X[1] # dv/dt = -v(t)*c + v(t)*u(t)*d\n",
    "\n",
    "        return np.array([ du_dt , dv_dt ])\n",
    "    \n",
    "    \"\"\" Intégration \"\"\"\n",
    "    X_LV, infodict = scpint.odeint(dX_dt_LV, X0, t, full_output=True) \n",
    "    \n",
    "    return(X_LV)\n",
    "  \n",
    "                  "
   ]
  },
  {
   "cell_type": "markdown",
   "metadata": {
    "heading_collapsed": true
   },
   "source": [
    "#### Graphe des solutions"
   ]
  },
  {
   "cell_type": "code",
   "execution_count": null,
   "metadata": {
    "hidden": true
   },
   "outputs": [],
   "source": [
    "def PlotRes_LV(t,X,P,labels):\n",
    "\n",
    "    u, v = X.T # Récupération des trajectoires\n",
    "\n",
    "    print('Paramètres : \\nReproduction proie = ' + str(P[0]) + '\\nMortalité proie par prédateur = ' + str(P[1]) \n",
    "    + '\\nMortalité prédateur = ' + str(P[2]) + '\\nReproduction prédateur par proie = ' + str(P[3])) \n",
    "\n",
    "    \"\"\" Graphe d'évolution en temps \"\"\"\n",
    "    f1, ax1 = plt.subplots(dpi=250,facecolor='w')\n",
    "    plt.title('Evolution des populations de proies et prédateurs')\n",
    "    ax1.plot(t, u, 'r-', label=labels[0])\n",
    "    ax1.plot(t, v  , 'b-', label=labels[1])\n",
    "    plt.grid()\n",
    "    plt.legend(loc='best')\n",
    "    plt.xlabel('Temps')\n",
    "    plt.ylabel('Population')\n",
    "    plt.show()\n",
    "\n",
    "    return"
   ]
  },
  {
   "cell_type": "markdown",
   "metadata": {},
   "source": [
    "## Résultats"
   ]
  },
  {
   "cell_type": "markdown",
   "metadata": {
    "heading_collapsed": true
   },
   "source": [
    "### Lotka-Voltera"
   ]
  },
  {
   "cell_type": "code",
   "execution_count": null,
   "metadata": {
    "hidden": true
   },
   "outputs": [],
   "source": [
    "t = np.linspace(0, 15,  1000) # Temps\n",
    "\n",
    "\"\"\" Lotka-Voltera \"\"\"\n",
    "P_LV = [1, 0.1, 1, 0.05] # Set de paramètres \n",
    "X0_LV = np.array([10, 5])  # Conditions initiales \n",
    "\n",
    "\n",
    "print('\\033[1m' + '\\033[4m' + 'Lotka-Voltera :\\n' + '\\033[0m')\n",
    "\n",
    "PlotRes_LV(t,Solve_LV(t,X0_LV,P_LV),P_LV,['Proie','Prédateur'])\n"
   ]
  },
  {
   "cell_type": "markdown",
   "metadata": {
    "heading_collapsed": true
   },
   "source": [
    "## Test"
   ]
  },
  {
   "cell_type": "code",
   "execution_count": null,
   "metadata": {
    "hidden": true
   },
   "outputs": [],
   "source": []
  }
 ],
 "metadata": {
  "kernelspec": {
   "display_name": "Python 3",
   "language": "python",
   "name": "python3"
  },
  "language_info": {
   "codemirror_mode": {
    "name": "ipython",
    "version": 3
   },
   "file_extension": ".py",
   "mimetype": "text/x-python",
   "name": "python",
   "nbconvert_exporter": "python",
   "pygments_lexer": "ipython3",
   "version": "3.8.5"
  },
  "toc": {
   "base_numbering": 1,
   "nav_menu": {},
   "number_sections": true,
   "sideBar": true,
   "skip_h1_title": true,
   "title_cell": "Table of Contents",
   "title_sidebar": "Contents",
   "toc_cell": false,
   "toc_position": {
    "height": "calc(100% - 180px)",
    "left": "10px",
    "top": "150px",
    "width": "384px"
   },
   "toc_section_display": true,
   "toc_window_display": true
  }
 },
 "nbformat": 4,
 "nbformat_minor": 4
}
